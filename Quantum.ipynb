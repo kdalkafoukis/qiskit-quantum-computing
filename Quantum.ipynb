{
 "cells": [
  {
   "cell_type": "code",
   "execution_count": 1294,
   "id": "a7abeffb",
   "metadata": {},
   "outputs": [],
   "source": [
    "'''\n",
    "Replace U1 with quantum gates instead of matrix\n",
    "'''\n",
    "from qiskit import transpile, QuantumRegister, ClassicalRegister, QuantumCircuit\n",
    "from qiskit.circuit.library.standard_gates import XGate\n",
    "from qiskit.providers.basic_provider import BasicSimulator"
   ]
  },
  {
   "cell_type": "markdown",
   "id": "f961b665",
   "metadata": {},
   "source": [
    "# Discrete Quantum Random Walks On The Line\n",
    "\n",
    "This is a notebook about random walks on the line\n"
   ]
  },
  {
   "cell_type": "markdown",
   "id": "9001323a",
   "metadata": {},
   "source": [
    "## quantum version of the unitary matrix\n"
   ]
  },
  {
   "cell_type": "markdown",
   "id": "f91629bb",
   "metadata": {},
   "source": [
    "### initialize_state\n",
    "\n",
    "this function maps an integer number from bits to qubits\n",
    "\n",
    "for 3 bits n=3\n",
    "000 -> |000>\n",
    "001 -> |001>\n",
    "...\n",
    "2^n -> |2^n>\n",
    "\n",
    "for n bits we have 2^n different states"
   ]
  },
  {
   "cell_type": "code",
   "execution_count": 1295,
   "id": "b0f64204",
   "metadata": {},
   "outputs": [],
   "source": [
    "def initialize_state(qc, digits):\n",
    "    for i, digit in enumerate(reversed(digits)):\n",
    "        if digit == '1':\n",
    "            qc.x(i)"
   ]
  },
  {
   "cell_type": "markdown",
   "id": "301bc0a9",
   "metadata": {},
   "source": [
    "### Input\n"
   ]
  },
  {
   "cell_type": "code",
   "execution_count": 1296,
   "id": "cdddddef",
   "metadata": {},
   "outputs": [],
   "source": [
    "num = \"00001\""
   ]
  },
  {
   "cell_type": "markdown",
   "id": "f87d722e",
   "metadata": {},
   "source": [
    "### Circuit Initialization\n",
    "The Quantum circuit has quantum registers to execute the algorithm\n",
    "and classical registers to measure the results"
   ]
  },
  {
   "cell_type": "code",
   "execution_count": 1297,
   "id": "e7fdd7de",
   "metadata": {},
   "outputs": [],
   "source": [
    "num_of_qubits = len(num)\n",
    "cr = ClassicalRegister(num_of_qubits)\n",
    "qr = QuantumRegister(num_of_qubits)\n",
    "qc = QuantumCircuit(qr, cr)"
   ]
  },
  {
   "cell_type": "markdown",
   "id": "ed87c5e1",
   "metadata": {},
   "source": [
    "### State initialization"
   ]
  },
  {
   "cell_type": "code",
   "execution_count": 1298,
   "id": "0247e457",
   "metadata": {},
   "outputs": [],
   "source": [
    "initialize_state(qc, num)"
   ]
  },
  {
   "cell_type": "code",
   "execution_count": 1299,
   "id": "2112a360",
   "metadata": {},
   "outputs": [],
   "source": [
    "def transition_state(qc, num, ctrl_state=None):\n",
    "    for target_qubit in range(len(num) - 1, 0, -1):\n",
    "        qargs = [control_qubit for control_qubit in range(target_qubit)]\n",
    "        qargs.append(target_qubit)\n",
    "        cx_gate = XGate().control(target_qubit, ctrl_state=ctrl_state)\n",
    "        qc.append(cx_gate, qargs)\n",
    "    qc.x(0)"
   ]
  },
  {
   "cell_type": "code",
   "execution_count": 1300,
   "id": "3bc55726",
   "metadata": {},
   "outputs": [],
   "source": [
    "# positive transition\n",
    "transition_state(qc, num)\n",
    "\n",
    "# # negative transition\n",
    "# transition_state(qc, num, ctrl_state=0)"
   ]
  },
  {
   "cell_type": "code",
   "execution_count": 1305,
   "id": "2c9ff2cf",
   "metadata": {},
   "outputs": [
    {
     "data": {
      "text/html": [
       "<pre style=\"word-wrap: normal;white-space: pre;background: #fff0;line-height: 1.1;font-family: &quot;Courier New&quot;,Courier,monospace\">         ┌───────────┐                                                      »\n",
       "q2364_0: ┤ U3(π,0,π) ├──■────■─────────────────────■─────────────────────■──»\n",
       "         └───────────┘  │    │                     │             ┌───┐   │  »\n",
       "q2364_1: ───────────────■────■─────────■───────────┼─────────■───┤ T ├───┼──»\n",
       "                        │    │  ┌───┐┌─┴─┐┌─────┐┌─┴─┐┌───┐┌─┴─┐┌┴───┴┐┌─┴─┐»\n",
       "q2364_2: ───────────────■────■──┤ H ├┤ X ├┤ Tdg ├┤ X ├┤ T ├┤ X ├┤ Tdg ├┤ X ├»\n",
       "                        │  ┌─┴─┐└┬─┬┘└───┘└─┬─┬─┘└───┘└───┘└───┘└─────┘└───┘»\n",
       "q2364_3: ───────────────■──┤ X ├─┤M├────────┤M├─────────────────────────────»\n",
       "                      ┌─┴─┐└┬─┬┘ └╥┘  ┌─┐   └╥┘                             »\n",
       "q2364_4: ─────────────┤ X ├─┤M├───╫───┤M├────╫──────────────────────────────»\n",
       "                      └───┘ └╥┘   ║   └╥┘    ║                              »\n",
       " c186: 5/════════════════════╩════╩════╩═════╩══════════════════════════════»\n",
       "                             4    3    4     3                              »\n",
       "«               ┌───┐           ┌───────────┐┌─┐   ┌─┐\n",
       "«q2364_0: ──■───┤ T ├───■────■──┤ U3(π,0,π) ├┤M├───┤M├\n",
       "«         ┌─┴─┐┌┴───┴┐┌─┴─┐┌─┴─┐└────┬─┬────┘└╥┘┌─┐└╥┘\n",
       "«q2364_1: ┤ X ├┤ Tdg ├┤ X ├┤ X ├─────┤M├──────╫─┤M├─╫─\n",
       "«         ├───┤└┬───┬┘└┬─┬┘└┬─┬┘     └╥┘      ║ └╥┘ ║ \n",
       "«q2364_2: ┤ T ├─┤ H ├──┤M├──┤M├───────╫───────╫──╫──╫─\n",
       "«         └───┘ └───┘  └╥┘  └╥┘       ║       ║  ║  ║ \n",
       "«q2364_3: ──────────────╫────╫────────╫───────╫──╫──╫─\n",
       "«                       ║    ║        ║       ║  ║  ║ \n",
       "«q2364_4: ──────────────╫────╫────────╫───────╫──╫──╫─\n",
       "«                       ║    ║        ║       ║  ║  ║ \n",
       "« c186: 5/══════════════╩════╩════════╩═══════╩══╩══╩═\n",
       "«                       2    2        1       0  1  0 </pre>"
      ],
      "text/plain": [
       "         ┌───────────┐                                                      »\n",
       "q2364_0: ┤ U3(π,0,π) ├──■────■─────────────────────■─────────────────────■──»\n",
       "         └───────────┘  │    │                     │             ┌───┐   │  »\n",
       "q2364_1: ───────────────■────■─────────■───────────┼─────────■───┤ T ├───┼──»\n",
       "                        │    │  ┌───┐┌─┴─┐┌─────┐┌─┴─┐┌───┐┌─┴─┐┌┴───┴┐┌─┴─┐»\n",
       "q2364_2: ───────────────■────■──┤ H ├┤ X ├┤ Tdg ├┤ X ├┤ T ├┤ X ├┤ Tdg ├┤ X ├»\n",
       "                        │  ┌─┴─┐└┬─┬┘└───┘└─┬─┬─┘└───┘└───┘└───┘└─────┘└───┘»\n",
       "q2364_3: ───────────────■──┤ X ├─┤M├────────┤M├─────────────────────────────»\n",
       "                      ┌─┴─┐└┬─┬┘ └╥┘  ┌─┐   └╥┘                             »\n",
       "q2364_4: ─────────────┤ X ├─┤M├───╫───┤M├────╫──────────────────────────────»\n",
       "                      └───┘ └╥┘   ║   └╥┘    ║                              »\n",
       " c186: 5/════════════════════╩════╩════╩═════╩══════════════════════════════»\n",
       "                             4    3    4     3                              »\n",
       "«               ┌───┐           ┌───────────┐┌─┐   ┌─┐\n",
       "«q2364_0: ──■───┤ T ├───■────■──┤ U3(π,0,π) ├┤M├───┤M├\n",
       "«         ┌─┴─┐┌┴───┴┐┌─┴─┐┌─┴─┐└────┬─┬────┘└╥┘┌─┐└╥┘\n",
       "«q2364_1: ┤ X ├┤ Tdg ├┤ X ├┤ X ├─────┤M├──────╫─┤M├─╫─\n",
       "«         ├───┤└┬───┬┘└┬─┬┘└┬─┬┘     └╥┘      ║ └╥┘ ║ \n",
       "«q2364_2: ┤ T ├─┤ H ├──┤M├──┤M├───────╫───────╫──╫──╫─\n",
       "«         └───┘ └───┘  └╥┘  └╥┘       ║       ║  ║  ║ \n",
       "«q2364_3: ──────────────╫────╫────────╫───────╫──╫──╫─\n",
       "«                       ║    ║        ║       ║  ║  ║ \n",
       "«q2364_4: ──────────────╫────╫────────╫───────╫──╫──╫─\n",
       "«                       ║    ║        ║       ║  ║  ║ \n",
       "« c186: 5/══════════════╩════╩════════╩═══════╩══╩══╩═\n",
       "«                       2    2        1       0  1  0 "
      ]
     },
     "execution_count": 1305,
     "metadata": {},
     "output_type": "execute_result"
    }
   ],
   "source": [
    "# qc.decompose().draw()"
   ]
  },
  {
   "cell_type": "code",
   "execution_count": 1306,
   "id": "e448a7ed",
   "metadata": {},
   "outputs": [
    {
     "name": "stdout",
     "output_type": "stream",
     "text": [
      "{'00010': 1024}\n"
     ]
    }
   ],
   "source": [
    "qubits = list(range(num_of_qubits))\n",
    "qc.measure(qubits, qubits)\n",
    "\n",
    "backend = BasicSimulator()\n",
    "tqc = transpile(qc, backend)\n",
    "counts = backend.run(tqc).result().get_counts()\n",
    "print(counts)"
   ]
  }
 ],
 "metadata": {
  "kernelspec": {
   "display_name": "qiskit-quantum-computing-9eP2RO8k",
   "language": "python",
   "name": "python3"
  },
  "language_info": {
   "codemirror_mode": {
    "name": "ipython",
    "version": 3
   },
   "file_extension": ".py",
   "mimetype": "text/x-python",
   "name": "python",
   "nbconvert_exporter": "python",
   "pygments_lexer": "ipython3",
   "version": "3.12.3"
  }
 },
 "nbformat": 4,
 "nbformat_minor": 5
}
