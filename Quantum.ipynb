{
 "cells": [
  {
   "cell_type": "code",
   "execution_count": 1035,
   "id": "a7abeffb",
   "metadata": {},
   "outputs": [],
   "source": [
    "'''\n",
    "Replace U1 with quantum gates instead of matrix\n",
    "'''\n",
    "from qiskit import transpile, QuantumRegister, ClassicalRegister, QuantumCircuit\n",
    "from qiskit.circuit.library.standard_gates import XGate\n",
    "from qiskit.providers.basic_provider import BasicSimulator"
   ]
  },
  {
   "cell_type": "code",
   "execution_count": 1036,
   "id": "b0f64204",
   "metadata": {},
   "outputs": [],
   "source": [
    "def initialize_state(qc, digits):\n",
    "    for i, digit in enumerate(reversed(digits)):\n",
    "        if digit == '1':\n",
    "            qc.x(i)"
   ]
  },
  {
   "cell_type": "code",
   "execution_count": 1037,
   "id": "cdddddef",
   "metadata": {},
   "outputs": [],
   "source": [
    "'''quantum version of the unitary matrix'''\n",
    "num = \"10101\"\n",
    "num_of_qubits = len(num)\n",
    "cr = ClassicalRegister(num_of_qubits)\n",
    "qr = QuantumRegister(num_of_qubits)\n",
    "qc = QuantumCircuit(qr, cr)"
   ]
  },
  {
   "cell_type": "code",
   "execution_count": 1038,
   "id": "2112a360",
   "metadata": {},
   "outputs": [
    {
     "name": "stdout",
     "output_type": "stream",
     "text": [
      "[0, 1, 2, 3, 4] 4\n",
      "[0, 1, 2, 3] 3\n",
      "[0, 1, 2] 2\n",
      "[0, 1] 1\n"
     ]
    }
   ],
   "source": [
    "\n",
    "initialize_state(qc, num)\n",
    "size = len(num) - 1\n",
    "for i in range(size, 0, -1):\n",
    "    arr = []\n",
    "    for j in range(i):\n",
    "        arr.append(j)\n",
    "    arr.append(i)\n",
    "    cx_gate = XGate().control(i)\n",
    "    qc.append(cx_gate, arr)\n",
    "    print(arr,  i)"
   ]
  },
  {
   "cell_type": "code",
   "execution_count": 1039,
   "id": "6496d168",
   "metadata": {},
   "outputs": [
    {
     "data": {
      "text/plain": [
       "<qiskit.circuit.instructionset.InstructionSet at 0x17f27a5f0>"
      ]
     },
     "execution_count": 1039,
     "metadata": {},
     "output_type": "execute_result"
    }
   ],
   "source": [
    "qc.x(0)"
   ]
  },
  {
   "cell_type": "code",
   "execution_count": 1040,
   "id": "2c9ff2cf",
   "metadata": {},
   "outputs": [],
   "source": [
    "# qc.decompose().draw()"
   ]
  },
  {
   "cell_type": "code",
   "execution_count": 1041,
   "id": "e448a7ed",
   "metadata": {},
   "outputs": [
    {
     "name": "stdout",
     "output_type": "stream",
     "text": [
      "{'010110': 1024}\n"
     ]
    }
   ],
   "source": [
    "qubits = list(range(num_of_qubits))\n",
    "qc.measure(qubits, qubits)\n",
    "\n",
    "backend = BasicSimulator()\n",
    "tqc = transpile(qc, backend)\n",
    "counts = backend.run(tqc).result().get_counts()\n",
    "print(counts)"
   ]
  }
 ],
 "metadata": {
  "kernelspec": {
   "display_name": "qiskit-quantum-computing-9eP2RO8k",
   "language": "python",
   "name": "python3"
  },
  "language_info": {
   "codemirror_mode": {
    "name": "ipython",
    "version": 3
   },
   "file_extension": ".py",
   "mimetype": "text/x-python",
   "name": "python",
   "nbconvert_exporter": "python",
   "pygments_lexer": "ipython3",
   "version": "3.12.3"
  }
 },
 "nbformat": 4,
 "nbformat_minor": 5
}
